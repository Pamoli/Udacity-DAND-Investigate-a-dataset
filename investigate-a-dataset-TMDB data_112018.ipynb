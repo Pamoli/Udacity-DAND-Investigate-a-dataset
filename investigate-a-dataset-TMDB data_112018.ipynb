{
 "cells": [
  {
   "cell_type": "markdown",
   "metadata": {},
   "source": [
    "\n",
    "\n",
    "# Project: Investigate a Dataset (TMDB Movie Data)\n",
    "\n",
    "## Table of Contents\n",
    "<ul>\n",
    "<li><a href=\"#intro\">Introduction</a></li>\n",
    "<li><a href=\"#wrangling\">Data Wrangling</a></li>\n",
    "<li><a href=\"#eda\">Exploratory Data Analysis</a></li>\n",
    "<li><a href=\"#conclusions\">Conclusions</a></li>\n",
    "<li><a href=\"#Limitations\">Limitations</a></li>\n",
    "</ul>"
   ]
  },
  {
   "cell_type": "markdown",
   "metadata": {},
   "source": [
    "<a id='intro'></a>\n",
    "## Introduction\n",
    "\n",
    "I've selected the 'TMDB movie data' for this analysis. So I'll first look at a snapshot of the data to figure out what the data is all about."
   ]
  },
  {
   "cell_type": "code",
   "execution_count": 295,
   "metadata": {
    "scrolled": true
   },
   "outputs": [
    {
     "data": {
      "text/html": [
       "<div>\n",
       "<style scoped>\n",
       "    .dataframe tbody tr th:only-of-type {\n",
       "        vertical-align: middle;\n",
       "    }\n",
       "\n",
       "    .dataframe tbody tr th {\n",
       "        vertical-align: top;\n",
       "    }\n",
       "\n",
       "    .dataframe thead th {\n",
       "        text-align: right;\n",
       "    }\n",
       "</style>\n",
       "<table border=\"1\" class=\"dataframe\">\n",
       "  <thead>\n",
       "    <tr style=\"text-align: right;\">\n",
       "      <th></th>\n",
       "      <th>id</th>\n",
       "      <th>imdb_id</th>\n",
       "      <th>popularity</th>\n",
       "      <th>budget</th>\n",
       "      <th>revenue</th>\n",
       "      <th>original_title</th>\n",
       "      <th>cast</th>\n",
       "      <th>homepage</th>\n",
       "      <th>director</th>\n",
       "      <th>tagline</th>\n",
       "      <th>...</th>\n",
       "      <th>overview</th>\n",
       "      <th>runtime</th>\n",
       "      <th>genres</th>\n",
       "      <th>production_companies</th>\n",
       "      <th>release_date</th>\n",
       "      <th>vote_count</th>\n",
       "      <th>vote_average</th>\n",
       "      <th>release_year</th>\n",
       "      <th>budget_adj</th>\n",
       "      <th>revenue_adj</th>\n",
       "    </tr>\n",
       "  </thead>\n",
       "  <tbody>\n",
       "    <tr>\n",
       "      <th>0</th>\n",
       "      <td>135397</td>\n",
       "      <td>tt0369610</td>\n",
       "      <td>32.985763</td>\n",
       "      <td>150000000</td>\n",
       "      <td>1513528810</td>\n",
       "      <td>Jurassic World</td>\n",
       "      <td>Chris Pratt|Bryce Dallas Howard|Irrfan Khan|Vi...</td>\n",
       "      <td>http://www.jurassicworld.com/</td>\n",
       "      <td>Colin Trevorrow</td>\n",
       "      <td>The park is open.</td>\n",
       "      <td>...</td>\n",
       "      <td>Twenty-two years after the events of Jurassic ...</td>\n",
       "      <td>124</td>\n",
       "      <td>Action|Adventure|Science Fiction|Thriller</td>\n",
       "      <td>Universal Studios|Amblin Entertainment|Legenda...</td>\n",
       "      <td>6/9/15</td>\n",
       "      <td>5562</td>\n",
       "      <td>6.5</td>\n",
       "      <td>2015</td>\n",
       "      <td>1.379999e+08</td>\n",
       "      <td>1.392446e+09</td>\n",
       "    </tr>\n",
       "    <tr>\n",
       "      <th>1</th>\n",
       "      <td>76341</td>\n",
       "      <td>tt1392190</td>\n",
       "      <td>28.419936</td>\n",
       "      <td>150000000</td>\n",
       "      <td>378436354</td>\n",
       "      <td>Mad Max: Fury Road</td>\n",
       "      <td>Tom Hardy|Charlize Theron|Hugh Keays-Byrne|Nic...</td>\n",
       "      <td>http://www.madmaxmovie.com/</td>\n",
       "      <td>George Miller</td>\n",
       "      <td>What a Lovely Day.</td>\n",
       "      <td>...</td>\n",
       "      <td>An apocalyptic story set in the furthest reach...</td>\n",
       "      <td>120</td>\n",
       "      <td>Action|Adventure|Science Fiction|Thriller</td>\n",
       "      <td>Village Roadshow Pictures|Kennedy Miller Produ...</td>\n",
       "      <td>5/13/15</td>\n",
       "      <td>6185</td>\n",
       "      <td>7.1</td>\n",
       "      <td>2015</td>\n",
       "      <td>1.379999e+08</td>\n",
       "      <td>3.481613e+08</td>\n",
       "    </tr>\n",
       "  </tbody>\n",
       "</table>\n",
       "<p>2 rows × 21 columns</p>\n",
       "</div>"
      ],
      "text/plain": [
       "       id    imdb_id  popularity     budget     revenue      original_title  \\\n",
       "0  135397  tt0369610   32.985763  150000000  1513528810      Jurassic World   \n",
       "1   76341  tt1392190   28.419936  150000000   378436354  Mad Max: Fury Road   \n",
       "\n",
       "                                                cast  \\\n",
       "0  Chris Pratt|Bryce Dallas Howard|Irrfan Khan|Vi...   \n",
       "1  Tom Hardy|Charlize Theron|Hugh Keays-Byrne|Nic...   \n",
       "\n",
       "                        homepage         director             tagline  \\\n",
       "0  http://www.jurassicworld.com/  Colin Trevorrow   The park is open.   \n",
       "1    http://www.madmaxmovie.com/    George Miller  What a Lovely Day.   \n",
       "\n",
       "       ...                                                overview runtime  \\\n",
       "0      ...       Twenty-two years after the events of Jurassic ...     124   \n",
       "1      ...       An apocalyptic story set in the furthest reach...     120   \n",
       "\n",
       "                                      genres  \\\n",
       "0  Action|Adventure|Science Fiction|Thriller   \n",
       "1  Action|Adventure|Science Fiction|Thriller   \n",
       "\n",
       "                                production_companies release_date vote_count  \\\n",
       "0  Universal Studios|Amblin Entertainment|Legenda...       6/9/15       5562   \n",
       "1  Village Roadshow Pictures|Kennedy Miller Produ...      5/13/15       6185   \n",
       "\n",
       "   vote_average  release_year    budget_adj   revenue_adj  \n",
       "0           6.5          2015  1.379999e+08  1.392446e+09  \n",
       "1           7.1          2015  1.379999e+08  3.481613e+08  \n",
       "\n",
       "[2 rows x 21 columns]"
      ]
     },
     "execution_count": 295,
     "metadata": {},
     "output_type": "execute_result"
    }
   ],
   "source": [
    "# Importing packages necessary for the analysis\n",
    "\n",
    "import pandas as pd\n",
    "import numpy as np\n",
    "import matplotlib.pyplot as plt\n",
    "import seaborn as sns\n",
    "\n",
    "%matplotlib inline\n",
    "\n",
    "#Reading the data and looking at the snapshot of top 2 rows\n",
    "pd.read_csv(\"tmdb-movies.csv\",nrows=2)\n",
    "\n"
   ]
  },
  {
   "cell_type": "markdown",
   "metadata": {},
   "source": [
    "<br />\n",
    "So,The dataset contains information on various movies released over the years. The metrics can be broadly divided into two categories:\n",
    "\n",
    "     \n",
    "| **Basic movie description**                           |**Success parameters**                          |               \n",
    "| :- || :- |\n",
    "| Title                                                 | Popularity                                     |\n",
    "| Budget                                                | Revenue                                        |\n",
    "| Cast                                                  | Vote average                                   |\n",
    "\n",
    "Given such a layout, we would naturally be interested to explore the reasons behind the success or failure of the movies. \n",
    "So, we would be using any one of the success parameters as *indepedent variables*, based on the question we're trying to answer, and the movie descriptors as *dependent variables*.\n",
    "\n",
    "The analysis to be carried out can be divided into two parts:\n",
    "\n",
    "**Basic exploration**:<br/>\n",
    "In this step, we would mostly look into the summary statistics for the relevant metrics, e.g.:\n",
    "> - What is the average budget spent on a movie? \n",
    "> - What is the average revenue from a movie?\n",
    "> - Which actor has been casted the most?\n",
    "> - Which genre has the highest number of movies?\n",
    "> - Which director has the highest number of films?\n",
    "> - What is the average runtime of the movies?\n",
    "> - Which genre is the most popular on an average?\n",
    "> - Which genre has the maximum budget on an average?\n",
    "> - Which genre produces maximum revenue on an average?\n",
    "\n",
    "As can be seen, these questions revolve around summaries of various metrics. After the basic exploration is completed, we would delve deeper, and try to analyze the independent variables mentioned above based on the dependent ones.\n",
    "\n",
    "**Questions to be answered**:<br/>\n",
    "> - How the popularity of movies in general has changed over the years? Is the trend similar across the top genres?\n",
    "> - How the budget of movies in general has changed over the years? Is the trend similar across the top genres?\n",
    "> - How the number of movies released in a year has changed over the years?\n",
    "> - Is there any association between ratings and revenue?\n",
    "> - What are the characteristics of the successful movies (Note that, success can be defined in two ways, revenue and ratings. Not all critically acclaimed highly rated movies generate high revenues.)\n",
    "> - Based on keywords, how the movie preferences have changed over the years?\n",
    "\n",
    "\n"
   ]
  },
  {
   "cell_type": "markdown",
   "metadata": {},
   "source": [
    "<a id='wrangling'></a>\n",
    "## Data Wrangling\n",
    "\n",
    "In this step, I'll look into the general properties of the data and decide on the next steps as in cleaning (if needed), rearranging (if needed) to make the data ready for analysis.\n",
    "\n",
    "\n",
    "**The shape of the data:**"
   ]
  },
  {
   "cell_type": "code",
   "execution_count": 296,
   "metadata": {},
   "outputs": [
    {
     "name": "stdout",
     "output_type": "stream",
     "text": [
      "The dataset has 10866 records, for 21 variables.\n"
     ]
    }
   ],
   "source": [
    "#Loading the full dataset\n",
    "data=pd.read_csv(\"tmdb-movies.csv\")\n",
    "\n",
    "#Looking at the shape of the data\n",
    "print(\"The dataset has {} records, for {} variables.\".format(data.shape[0],data.shape[1]))\n",
    "\n"
   ]
  },
  {
   "cell_type": "markdown",
   "metadata": {},
   "source": [
    "**The content of the data:**"
   ]
  },
  {
   "cell_type": "code",
   "execution_count": 297,
   "metadata": {},
   "outputs": [
    {
     "name": "stdout",
     "output_type": "stream",
     "text": [
      "The variables present in the data: \n",
      "id\n",
      "imdb_id\n",
      "popularity\n",
      "budget\n",
      "revenue\n",
      "original_title\n",
      "cast\n",
      "homepage\n",
      "director\n",
      "tagline\n",
      "keywords\n",
      "overview\n",
      "runtime\n",
      "genres\n",
      "production_companies\n",
      "release_date\n",
      "vote_count\n",
      "vote_average\n",
      "release_year\n",
      "budget_adj\n",
      "revenue_adj\n"
     ]
    }
   ],
   "source": [
    "#Checking the variables present in the data\n",
    "\n",
    "print(\"The variables present in the data: \")\n",
    "for i in data.columns:\n",
    "    print(i)"
   ]
  },
  {
   "cell_type": "markdown",
   "metadata": {},
   "source": [
    "The variables like *homepage*, *tagline*, *overview* would not be of any use in our analysis. Since *release_year* is present in the data, we would not need *release_date*. We are interested in the actual budget and revenue, so we can drop the adjusted ones, *budget_adj*, *revenue_adj*. Also, there are two kinds of \"id\" present in the data. For our purpose one would be enough."
   ]
  },
  {
   "cell_type": "markdown",
   "metadata": {},
   "source": [
    "**Checking for duplication:**\n"
   ]
  },
  {
   "cell_type": "code",
   "execution_count": 298,
   "metadata": {
    "scrolled": false
   },
   "outputs": [
    {
     "name": "stdout",
     "output_type": "stream",
     "text": [
      "The dataset contains 1 duplicated record.\n"
     ]
    }
   ],
   "source": [
    "print(\"The dataset contains {} duplicated records.\".format(data.duplicated().sum()) if data.duplicated().sum()>1 else \"The dataset contains {} duplicated record.\".format(data.duplicated().sum()))"
   ]
  },
  {
   "cell_type": "markdown",
   "metadata": {},
   "source": [
    "**Checking for null values:**"
   ]
  },
  {
   "cell_type": "code",
   "execution_count": 299,
   "metadata": {
    "scrolled": true
   },
   "outputs": [
    {
     "name": "stdout",
     "output_type": "stream",
     "text": [
      "imdb_id                   10\n",
      "cast                      76\n",
      "homepage                7930\n",
      "director                  44\n",
      "tagline                 2824\n",
      "keywords                1493\n",
      "overview                   4\n",
      "genres                    23\n",
      "production_companies    1030\n",
      "dtype: int64\n"
     ]
    }
   ],
   "source": [
    "#Finding out which columns have null values\n",
    "na=data.isna().sum()\n",
    "\n",
    "#Displaying only the null containing columns names along with the count of null values\n",
    "print(na[na>0])"
   ]
  },
  {
   "cell_type": "markdown",
   "metadata": {},
   "source": [
    "**Note:**\n",
    "9 columns in total contains null values. Among them homepage has the highest number of null values (~73%), followed by tagline, keylines and production companies. We'd see how we can resolve this problem in the cleaning section."
   ]
  },
  {
   "cell_type": "markdown",
   "metadata": {},
   "source": [
    "**Checking for errant data:** <br/>\n",
    "<br/>\n",
    "The presence of any errant data should be reflected in the summary statistics. So we'll have a look at that first. "
   ]
  },
  {
   "cell_type": "code",
   "execution_count": 300,
   "metadata": {
    "scrolled": false
   },
   "outputs": [
    {
     "data": {
      "text/html": [
       "<div>\n",
       "<style scoped>\n",
       "    .dataframe tbody tr th:only-of-type {\n",
       "        vertical-align: middle;\n",
       "    }\n",
       "\n",
       "    .dataframe tbody tr th {\n",
       "        vertical-align: top;\n",
       "    }\n",
       "\n",
       "    .dataframe thead th {\n",
       "        text-align: right;\n",
       "    }\n",
       "</style>\n",
       "<table border=\"1\" class=\"dataframe\">\n",
       "  <thead>\n",
       "    <tr style=\"text-align: right;\">\n",
       "      <th></th>\n",
       "      <th>popularity</th>\n",
       "      <th>budget</th>\n",
       "      <th>revenue</th>\n",
       "      <th>runtime</th>\n",
       "      <th>vote_count</th>\n",
       "      <th>vote_average</th>\n",
       "      <th>release_year</th>\n",
       "      <th>budget_adj</th>\n",
       "      <th>revenue_adj</th>\n",
       "    </tr>\n",
       "  </thead>\n",
       "  <tbody>\n",
       "    <tr>\n",
       "      <th>count</th>\n",
       "      <td>10866.000000</td>\n",
       "      <td>1.086600e+04</td>\n",
       "      <td>1.086600e+04</td>\n",
       "      <td>10866.000000</td>\n",
       "      <td>10866.000000</td>\n",
       "      <td>10866.000000</td>\n",
       "      <td>10866.000000</td>\n",
       "      <td>1.086600e+04</td>\n",
       "      <td>1.086600e+04</td>\n",
       "    </tr>\n",
       "    <tr>\n",
       "      <th>mean</th>\n",
       "      <td>0.646441</td>\n",
       "      <td>1.462570e+07</td>\n",
       "      <td>3.982332e+07</td>\n",
       "      <td>102.070863</td>\n",
       "      <td>217.389748</td>\n",
       "      <td>5.974922</td>\n",
       "      <td>2001.322658</td>\n",
       "      <td>1.755104e+07</td>\n",
       "      <td>5.136436e+07</td>\n",
       "    </tr>\n",
       "    <tr>\n",
       "      <th>std</th>\n",
       "      <td>1.000185</td>\n",
       "      <td>3.091321e+07</td>\n",
       "      <td>1.170035e+08</td>\n",
       "      <td>31.381405</td>\n",
       "      <td>575.619058</td>\n",
       "      <td>0.935142</td>\n",
       "      <td>12.812941</td>\n",
       "      <td>3.430616e+07</td>\n",
       "      <td>1.446325e+08</td>\n",
       "    </tr>\n",
       "    <tr>\n",
       "      <th>min</th>\n",
       "      <td>0.000065</td>\n",
       "      <td>0.000000e+00</td>\n",
       "      <td>0.000000e+00</td>\n",
       "      <td>0.000000</td>\n",
       "      <td>10.000000</td>\n",
       "      <td>1.500000</td>\n",
       "      <td>1960.000000</td>\n",
       "      <td>0.000000e+00</td>\n",
       "      <td>0.000000e+00</td>\n",
       "    </tr>\n",
       "    <tr>\n",
       "      <th>25%</th>\n",
       "      <td>0.207583</td>\n",
       "      <td>0.000000e+00</td>\n",
       "      <td>0.000000e+00</td>\n",
       "      <td>90.000000</td>\n",
       "      <td>17.000000</td>\n",
       "      <td>5.400000</td>\n",
       "      <td>1995.000000</td>\n",
       "      <td>0.000000e+00</td>\n",
       "      <td>0.000000e+00</td>\n",
       "    </tr>\n",
       "    <tr>\n",
       "      <th>50%</th>\n",
       "      <td>0.383856</td>\n",
       "      <td>0.000000e+00</td>\n",
       "      <td>0.000000e+00</td>\n",
       "      <td>99.000000</td>\n",
       "      <td>38.000000</td>\n",
       "      <td>6.000000</td>\n",
       "      <td>2006.000000</td>\n",
       "      <td>0.000000e+00</td>\n",
       "      <td>0.000000e+00</td>\n",
       "    </tr>\n",
       "    <tr>\n",
       "      <th>75%</th>\n",
       "      <td>0.713817</td>\n",
       "      <td>1.500000e+07</td>\n",
       "      <td>2.400000e+07</td>\n",
       "      <td>111.000000</td>\n",
       "      <td>145.750000</td>\n",
       "      <td>6.600000</td>\n",
       "      <td>2011.000000</td>\n",
       "      <td>2.085325e+07</td>\n",
       "      <td>3.369710e+07</td>\n",
       "    </tr>\n",
       "    <tr>\n",
       "      <th>max</th>\n",
       "      <td>32.985763</td>\n",
       "      <td>4.250000e+08</td>\n",
       "      <td>2.781506e+09</td>\n",
       "      <td>900.000000</td>\n",
       "      <td>9767.000000</td>\n",
       "      <td>9.200000</td>\n",
       "      <td>2015.000000</td>\n",
       "      <td>4.250000e+08</td>\n",
       "      <td>2.827124e+09</td>\n",
       "    </tr>\n",
       "  </tbody>\n",
       "</table>\n",
       "</div>"
      ],
      "text/plain": [
       "         popularity        budget       revenue       runtime    vote_count  \\\n",
       "count  10866.000000  1.086600e+04  1.086600e+04  10866.000000  10866.000000   \n",
       "mean       0.646441  1.462570e+07  3.982332e+07    102.070863    217.389748   \n",
       "std        1.000185  3.091321e+07  1.170035e+08     31.381405    575.619058   \n",
       "min        0.000065  0.000000e+00  0.000000e+00      0.000000     10.000000   \n",
       "25%        0.207583  0.000000e+00  0.000000e+00     90.000000     17.000000   \n",
       "50%        0.383856  0.000000e+00  0.000000e+00     99.000000     38.000000   \n",
       "75%        0.713817  1.500000e+07  2.400000e+07    111.000000    145.750000   \n",
       "max       32.985763  4.250000e+08  2.781506e+09    900.000000   9767.000000   \n",
       "\n",
       "       vote_average  release_year    budget_adj   revenue_adj  \n",
       "count  10866.000000  10866.000000  1.086600e+04  1.086600e+04  \n",
       "mean       5.974922   2001.322658  1.755104e+07  5.136436e+07  \n",
       "std        0.935142     12.812941  3.430616e+07  1.446325e+08  \n",
       "min        1.500000   1960.000000  0.000000e+00  0.000000e+00  \n",
       "25%        5.400000   1995.000000  0.000000e+00  0.000000e+00  \n",
       "50%        6.000000   2006.000000  0.000000e+00  0.000000e+00  \n",
       "75%        6.600000   2011.000000  2.085325e+07  3.369710e+07  \n",
       "max        9.200000   2015.000000  4.250000e+08  2.827124e+09  "
      ]
     },
     "execution_count": 300,
     "metadata": {},
     "output_type": "execute_result"
    }
   ],
   "source": [
    "#Computing summary measures for each numerical variable\n",
    "#Summary statistics for \"id\" doesn't make sense so removing that\n",
    "data.iloc[:,1:].describe()"
   ]
  },
  {
   "cell_type": "markdown",
   "metadata": {},
   "source": [
    "Both *budget* and *revenue* show unusually large values of variance. We need to take a deeper look into these variables to find out what's happening."
   ]
  },
  {
   "cell_type": "code",
   "execution_count": 301,
   "metadata": {},
   "outputs": [
    {
     "name": "stdout",
     "output_type": "stream",
     "text": [
      "AxesSubplot(0.125,0.125;0.775x0.755)\n"
     ]
    },
    {
     "data": {
      "text/plain": [
       "Text(0.5,1,'Boxplot showing distribution of budget')"
      ]
     },
     "execution_count": 301,
     "metadata": {},
     "output_type": "execute_result"
    },
    {
     "data": {
      "image/png": "[encoded data removed]",
      "text/plain": [
       "<Figure size 432x288 with 1 Axes>"
      ]
     },
     "metadata": {},
     "output_type": "display_data"
    }
   ],
   "source": [
    "#Plotting boxplot for budget\n",
    "print(data[[\"budget\"]].boxplot())\n",
    "plt.title(\"Boxplot showing distribution of budget\")"
   ]
  },
  {
   "cell_type": "code",
   "execution_count": 302,
   "metadata": {},
   "outputs": [
    {
     "name": "stdout",
     "output_type": "stream",
     "text": [
      "AxesSubplot(0.125,0.125;0.775x0.755)\n"
     ]
    },
    {
     "data": {
      "text/plain": [
       "Text(0.5,1,'Boxplot showing distribution of revenue')"
      ]
     },
     "execution_count": 302,
     "metadata": {},
     "output_type": "execute_result"
    },
    {
     "data": {
      "image/png": "[encoded data removed]",
      "text/plain": [
       "<Figure size 432x288 with 1 Axes>"
      ]
     },
     "metadata": {},
     "output_type": "display_data"
    }
   ],
   "source": [
    "#Plotting boxplot for revenue\n",
    "print(data[[\"revenue\"]].boxplot())\n",
    "plt.title(\"Boxplot showing distribution of revenue\")"
   ]
  },
  {
   "cell_type": "markdown",
   "metadata": {},
   "source": [
    "The boxplots show that both the metrics are clustered around 0, which is quite unreasonable. The only reasons for budget/revenue to be 0 could be:\n",
    "- The values were not recorded properly (and hence should be treated as missing values)\n",
    "- The movies were not released at all.<br/>\n",
    "\n",
    "While checking for null values, we saw that the *release_year* column has no null value. So we'll check for any possible non-null errant value there."
   ]
  },
  {
   "cell_type": "code",
   "execution_count": 303,
   "metadata": {},
   "outputs": [
    {
     "name": "stdout",
     "output_type": "stream",
     "text": [
      "[2015 2014 1977 2009 2010 1999 2001 2008 2011 2002 1994 2012 2003 1997\n",
      " 2013 1985 2005 2006 2004 1972 1980 2007 1979 1984 1983 1995 1992 1981\n",
      " 1996 2000 1982 1998 1989 1991 1988 1987 1968 1974 1975 1962 1964 1971\n",
      " 1990 1961 1960 1976 1993 1967 1963 1986 1973 1970 1965 1969 1978 1966]\n",
      "[2015 2014 1977 2009 2010 1999 2001 2008 2011 2002 1994 2012 2003 1997\n",
      " 2013 1985 2005 2006 2004 1972 1980 2007 1979 1984 1983 1995 1992 1981\n",
      " 1996 2000 1982 1998 1989 1991 1988 1987 1968 1974 1975 1962 1964 1971\n",
      " 1990 1961 1960 1976 1993 1967 1963 1986 1973 1970 1965 1969 1978 1966]\n"
     ]
    }
   ],
   "source": [
    "#Checking the year of release for records having 0 budget or revenue\n",
    "print(data[data[\"revenue\"]==0][\"release_year\"].unique())\n",
    "print(data[data[\"budget\"]==0][\"release_year\"].unique())"
   ]
  },
  {
   "cell_type": "markdown",
   "metadata": {},
   "source": [
    "This confirms all the movies were released. So, we rule out the second possibility and treat the 0s as missing values. <br/>\n",
    "\n",
    "Our data wrangling process is complete. Based on our exploration, we would execute the following cleaning steps:\n",
    "- Remove the duplicated records \n",
    "- Omit the irrelevant fields\n",
    "- Treat missing values and zero values where needed\n"
   ]
  },
  {
   "cell_type": "markdown",
   "metadata": {},
   "source": [
    "\n",
    "\n",
    "### Data Cleaning"
   ]
  },
  {
   "cell_type": "markdown",
   "metadata": {},
   "source": [
    "As discussed in the previous section, we would clean the data in this phase.\n",
    "\n",
    "<br/>\n",
    "**Removing the duplicated record**"
   ]
  },
  {
   "cell_type": "code",
   "execution_count": 304,
   "metadata": {},
   "outputs": [
    {
     "name": "stdout",
     "output_type": "stream",
     "text": [
      "After cleaning, the dataset contains 0 duplicated record.\n"
     ]
    }
   ],
   "source": [
    "#Removing duplicates\n",
    "data.drop_duplicates(inplace=True)\n",
    "\n",
    "#Checking if the duplicate was properly removed\n",
    "print(\"After cleaning the dataset contains {} duplicated records.\".format(data.duplicated().sum()) if data.duplicated().sum()>1 else \"After cleaning, the dataset contains {} duplicated record.\".format(data.duplicated().sum()))"
   ]
  },
  {
   "cell_type": "markdown",
   "metadata": {},
   "source": [
    "**Omitting irrelevant fields**"
   ]
  },
  {
   "cell_type": "code",
   "execution_count": 305,
   "metadata": {},
   "outputs": [
    {
     "name": "stdout",
     "output_type": "stream",
     "text": [
      "The id column doesn't contain duplicates and can be used as an identification key.\n",
      "The remaining columns are: \n",
      "id\n",
      "popularity\n",
      "budget\n",
      "revenue\n",
      "original_title\n",
      "cast\n",
      "director\n",
      "keywords\n",
      "runtime\n",
      "genres\n",
      "production_companies\n",
      "vote_count\n",
      "vote_average\n",
      "release_year\n"
     ]
    }
   ],
   "source": [
    "# We would drop the homepage,tagline,overview,release_date,buget_adj,revenue_adj. \n",
    "#Since imdb_id has 10 values missing, as seen before, we can drop that and use id instead if the id is unique.\n",
    "\n",
    "#Checking if the id is duplicated\n",
    "print(\"The id column contains duplicates and hence can't be used as an identification key.\" if data[[\"id\"]].duplicated().sum()>0 else \"The id column doesn't contain duplicates and can be used as an identification key.\")\n",
    "\n",
    "#Dropping the columns\n",
    "data.drop([\"imdb_id\",\"homepage\",\"tagline\",\"overview\",\"release_date\",\"budget_adj\",\"revenue_adj\"], axis=1, inplace=True)\n",
    "\n",
    "#Checking if the columns were properly dropped\n",
    "print(\"The remaining columns are: \")\n",
    "for i in data.columns:\n",
    "    print(i)\n"
   ]
  },
  {
   "cell_type": "markdown",
   "metadata": {},
   "source": [
    "**Treating the null values**\n",
    "\n",
    "After dropping the variables we now have null values in only *cast*,*director*,*genres*,*keywords* and *production_companies* columns. In the first three cases, the number of null values are small and hence can be removed without implications on the analysis.\n",
    "However, the *production_companies* and *keywords* contain a lot of null values and dropping them can result into losing considerable amount of data. So we'll keep them as they are."
   ]
  },
  {
   "cell_type": "code",
   "execution_count": 306,
   "metadata": {
    "scrolled": false
   },
   "outputs": [
    {
     "name": "stdout",
     "output_type": "stream",
     "text": [
      "keywords                1425\n",
      "production_companies     959\n",
      "dtype: int64\n"
     ]
    }
   ],
   "source": [
    "#Dropping the null values\n",
    "data.dropna(subset=[\"cast\",\"director\",\"genres\"], inplace=True)  \n",
    "\n",
    "#Checking the amount of null values after dropping\n",
    "na=data.isna().sum()\n",
    "print(na[na>0])"
   ]
  },
  {
   "cell_type": "markdown",
   "metadata": {},
   "source": [
    "As expected, the null values have only remained in *keywords* and *production_companies* column."
   ]
  },
  {
   "cell_type": "markdown",
   "metadata": {},
   "source": [
    "**Treating the zero values**<br/>\n",
    "We have seen in both *budget* and *revenue* columns there are outrageous amount of zeros present, which are more likely to be missing data. <br/>\n",
    "So, we'll first check the proportion of 0s in both columns."
   ]
  },
  {
   "cell_type": "code",
   "execution_count": 307,
   "metadata": {
    "scrolled": false
   },
   "outputs": [
    {
     "name": "stdout",
     "output_type": "stream",
     "text": [
      "52% of budget values are zeroes.\n",
      "55% of budget values are zeroes.\n"
     ]
    }
   ],
   "source": [
    "#Calculating proportion of zeroes\n",
    "print(\"{}% of budget values are zeroes.\".format(round(len(data.query('budget==0'))/len(data[\"budget\"])*100),2))\n",
    "print(\"{}% of budget values are zeroes.\".format(round(len(data.query('revenue==0'))/len(data[\"revenue\"])*100),2))"
   ]
  },
  {
   "cell_type": "markdown",
   "metadata": {},
   "source": [
    "With more than 50% values missing, imputation is not a preferable option. Rather, we'll treat these as missing values so that it doesn't affect our analysis."
   ]
  },
  {
   "cell_type": "code",
   "execution_count": 308,
   "metadata": {
    "scrolled": false
   },
   "outputs": [],
   "source": [
    "#Replacing the zeroes with null values\n",
    "data[\"budget\"].replace(0, np.nan,inplace=True)\n",
    "data[\"revenue\"].replace(0, np.nan,inplace=True)"
   ]
  },
  {
   "cell_type": "markdown",
   "metadata": {},
   "source": [
    "After replacing the zeroes with null values we'll check how the distributions of the variables have changed."
   ]
  },
  {
   "cell_type": "code",
   "execution_count": 309,
   "metadata": {
    "scrolled": false
   },
   "outputs": [
    {
     "data": {
      "text/html": [
       "<div>\n",
       "<style scoped>\n",
       "    .dataframe tbody tr th:only-of-type {\n",
       "        vertical-align: middle;\n",
       "    }\n",
       "\n",
       "    .dataframe tbody tr th {\n",
       "        vertical-align: top;\n",
       "    }\n",
       "\n",
       "    .dataframe thead th {\n",
       "        text-align: right;\n",
       "    }\n",
       "</style>\n",
       "<table border=\"1\" class=\"dataframe\">\n",
       "  <thead>\n",
       "    <tr style=\"text-align: right;\">\n",
       "      <th></th>\n",
       "      <th>budget</th>\n",
       "      <th>revenue</th>\n",
       "    </tr>\n",
       "  </thead>\n",
       "  <tbody>\n",
       "    <tr>\n",
       "      <th>count</th>\n",
       "      <td>5.153000e+03</td>\n",
       "      <td>4.843000e+03</td>\n",
       "    </tr>\n",
       "    <tr>\n",
       "      <th>mean</th>\n",
       "      <td>3.082824e+07</td>\n",
       "      <td>8.933981e+07</td>\n",
       "    </tr>\n",
       "    <tr>\n",
       "      <th>std</th>\n",
       "      <td>3.893199e+07</td>\n",
       "      <td>1.621546e+08</td>\n",
       "    </tr>\n",
       "    <tr>\n",
       "      <th>min</th>\n",
       "      <td>1.000000e+00</td>\n",
       "      <td>2.000000e+00</td>\n",
       "    </tr>\n",
       "    <tr>\n",
       "      <th>25%</th>\n",
       "      <td>6.000000e+06</td>\n",
       "      <td>7.779664e+06</td>\n",
       "    </tr>\n",
       "    <tr>\n",
       "      <th>50%</th>\n",
       "      <td>1.750000e+07</td>\n",
       "      <td>3.191160e+07</td>\n",
       "    </tr>\n",
       "    <tr>\n",
       "      <th>75%</th>\n",
       "      <td>4.000000e+07</td>\n",
       "      <td>1.000000e+08</td>\n",
       "    </tr>\n",
       "    <tr>\n",
       "      <th>max</th>\n",
       "      <td>4.250000e+08</td>\n",
       "      <td>2.781506e+09</td>\n",
       "    </tr>\n",
       "  </tbody>\n",
       "</table>\n",
       "</div>"
      ],
      "text/plain": [
       "             budget       revenue\n",
       "count  5.153000e+03  4.843000e+03\n",
       "mean   3.082824e+07  8.933981e+07\n",
       "std    3.893199e+07  1.621546e+08\n",
       "min    1.000000e+00  2.000000e+00\n",
       "25%    6.000000e+06  7.779664e+06\n",
       "50%    1.750000e+07  3.191160e+07\n",
       "75%    4.000000e+07  1.000000e+08\n",
       "max    4.250000e+08  2.781506e+09"
      ]
     },
     "execution_count": 309,
     "metadata": {},
     "output_type": "execute_result"
    }
   ],
   "source": [
    "\n",
    "data[[\"budget\",\"revenue\"]].describe()"
   ]
  },
  {
   "cell_type": "markdown",
   "metadata": {},
   "source": [
    "We see the distributions are not centered around 0 anymore. Though it has minimum values as low as 1 or 2, we can't make all of them missing since then we'll be left with almost no data.\n",
    "<br/>\n",
    "<br/>\n",
    "\n",
    "The cleaning procedure is completed. And here is the final snapshot of the data."
   ]
  },
  {
   "cell_type": "code",
   "execution_count": 310,
   "metadata": {},
   "outputs": [
    {
     "data": {
      "text/html": [
       "<div>\n",
       "<style scoped>\n",
       "    .dataframe tbody tr th:only-of-type {\n",
       "        vertical-align: middle;\n",
       "    }\n",
       "\n",
       "    .dataframe tbody tr th {\n",
       "        vertical-align: top;\n",
       "    }\n",
       "\n",
       "    .dataframe thead th {\n",
       "        text-align: right;\n",
       "    }\n",
       "</style>\n",
       "<table border=\"1\" class=\"dataframe\">\n",
       "  <thead>\n",
       "    <tr style=\"text-align: right;\">\n",
       "      <th></th>\n",
       "      <th>id</th>\n",
       "      <th>popularity</th>\n",
       "      <th>budget</th>\n",
       "      <th>revenue</th>\n",
       "      <th>original_title</th>\n",
       "      <th>cast</th>\n",
       "      <th>director</th>\n",
       "      <th>keywords</th>\n",
       "      <th>runtime</th>\n",
       "      <th>genres</th>\n",
       "      <th>production_companies</th>\n",
       "      <th>vote_count</th>\n",
       "      <th>vote_average</th>\n",
       "      <th>release_year</th>\n",
       "    </tr>\n",
       "  </thead>\n",
       "  <tbody>\n",
       "    <tr>\n",
       "      <th>0</th>\n",
       "      <td>135397</td>\n",
       "      <td>32.985763</td>\n",
       "      <td>150000000.0</td>\n",
       "      <td>1.513529e+09</td>\n",
       "      <td>Jurassic World</td>\n",
       "      <td>Chris Pratt|Bryce Dallas Howard|Irrfan Khan|Vi...</td>\n",
       "      <td>Colin Trevorrow</td>\n",
       "      <td>monster|dna|tyrannosaurus rex|velociraptor|island</td>\n",
       "      <td>124</td>\n",
       "      <td>Action|Adventure|Science Fiction|Thriller</td>\n",
       "      <td>Universal Studios|Amblin Entertainment|Legenda...</td>\n",
       "      <td>5562</td>\n",
       "      <td>6.5</td>\n",
       "      <td>2015</td>\n",
       "    </tr>\n",
       "    <tr>\n",
       "      <th>1</th>\n",
       "      <td>76341</td>\n",
       "      <td>28.419936</td>\n",
       "      <td>150000000.0</td>\n",
       "      <td>3.784364e+08</td>\n",
       "      <td>Mad Max: Fury Road</td>\n",
       "      <td>Tom Hardy|Charlize Theron|Hugh Keays-Byrne|Nic...</td>\n",
       "      <td>George Miller</td>\n",
       "      <td>future|chase|post-apocalyptic|dystopia|australia</td>\n",
       "      <td>120</td>\n",
       "      <td>Action|Adventure|Science Fiction|Thriller</td>\n",
       "      <td>Village Roadshow Pictures|Kennedy Miller Produ...</td>\n",
       "      <td>6185</td>\n",
       "      <td>7.1</td>\n",
       "      <td>2015</td>\n",
       "    </tr>\n",
       "  </tbody>\n",
       "</table>\n",
       "</div>"
      ],
      "text/plain": [
       "       id  popularity       budget       revenue      original_title  \\\n",
       "0  135397   32.985763  150000000.0  1.513529e+09      Jurassic World   \n",
       "1   76341   28.419936  150000000.0  3.784364e+08  Mad Max: Fury Road   \n",
       "\n",
       "                                                cast         director  \\\n",
       "0  Chris Pratt|Bryce Dallas Howard|Irrfan Khan|Vi...  Colin Trevorrow   \n",
       "1  Tom Hardy|Charlize Theron|Hugh Keays-Byrne|Nic...    George Miller   \n",
       "\n",
       "                                            keywords  runtime  \\\n",
       "0  monster|dna|tyrannosaurus rex|velociraptor|island      124   \n",
       "1   future|chase|post-apocalyptic|dystopia|australia      120   \n",
       "\n",
       "                                      genres  \\\n",
       "0  Action|Adventure|Science Fiction|Thriller   \n",
       "1  Action|Adventure|Science Fiction|Thriller   \n",
       "\n",
       "                                production_companies  vote_count  \\\n",
       "0  Universal Studios|Amblin Entertainment|Legenda...        5562   \n",
       "1  Village Roadshow Pictures|Kennedy Miller Produ...        6185   \n",
       "\n",
       "   vote_average  release_year  \n",
       "0           6.5          2015  \n",
       "1           7.1          2015  "
      ]
     },
     "execution_count": 310,
     "metadata": {},
     "output_type": "execute_result"
    }
   ],
   "source": [
    "#Snapshot of the data\n",
    "data.head(2)"
   ]
  },
  {
   "cell_type": "code",
   "execution_count": 311,
   "metadata": {
    "scrolled": true
   },
   "outputs": [
    {
     "name": "stdout",
     "output_type": "stream",
     "text": [
      "<class 'pandas.core.frame.DataFrame'>\n",
      "Int64Index: 10731 entries, 0 to 10865\n",
      "Data columns (total 14 columns):\n",
      "id                      10731 non-null int64\n",
      "popularity              10731 non-null float64\n",
      "budget                  5153 non-null float64\n",
      "revenue                 4843 non-null float64\n",
      "original_title          10731 non-null object\n",
      "cast                    10731 non-null object\n",
      "director                10731 non-null object\n",
      "keywords                9306 non-null object\n",
      "runtime                 10731 non-null int64\n",
      "genres                  10731 non-null object\n",
      "production_companies    9772 non-null object\n",
      "vote_count              10731 non-null int64\n",
      "vote_average            10731 non-null float64\n",
      "release_year            10731 non-null int64\n",
      "dtypes: float64(4), int64(4), object(6)\n",
      "memory usage: 1006.0+ KB\n",
      "None\n",
      "After cleaning, the dataset has 10731 records, for 14 variables.\n"
     ]
    }
   ],
   "source": [
    "#Properties of the cleaned data\n",
    "print(data.info())\n",
    "print(\"After cleaning, the dataset has {} records, for {} variables.\".format(data.shape[0],data.shape[1]))"
   ]
  },
  {
   "cell_type": "markdown",
   "metadata": {},
   "source": [
    "The dataset still have some missing values, but that we've already agreed upon. So next we'll move on to the exploratory data analysis."
   ]
  },
  {
   "cell_type": "markdown",
   "metadata": {},
   "source": [
    "<a id='eda'></a>\n",
    "## Exploratory Data Analysis\n",
    "\n",
    "### Basic exploration\n",
    "\n",
    "As discussed before, we'd first calculate the summary statistics for each of the variable.\n",
    "\n"
   ]
  },
  {
   "cell_type": "code",
   "execution_count": 312,
   "metadata": {
    "scrolled": true
   },
   "outputs": [
    {
     "name": "stdout",
     "output_type": "stream",
     "text": [
      "         popularity        budget       revenue       runtime    vote_count  \\\n",
      "count  10731.000000  5.153000e+03  4.843000e+03  10731.000000  10731.000000   \n",
      "mean       0.652615  3.082824e+07  8.933981e+07    102.468829    219.812972   \n",
      "std        1.004804  3.893199e+07  1.621546e+08     30.493873    578.815324   \n",
      "min        0.000188  1.000000e+00  2.000000e+00      0.000000     10.000000   \n",
      "25%        0.210765  6.000000e+06  7.779664e+06     90.000000     17.000000   \n",
      "50%        0.387081  1.750000e+07  3.191160e+07     99.000000     39.000000   \n",
      "75%        0.720889  4.000000e+07  1.000000e+08    112.000000    148.000000   \n",
      "max       32.985763  4.250000e+08  2.781506e+09    900.000000   9767.000000   \n",
      "\n",
      "       vote_average  release_year  \n",
      "count  10731.000000  10731.000000  \n",
      "mean       5.964710   2001.259622  \n",
      "std        0.930283     12.820151  \n",
      "min        1.500000   1960.000000  \n",
      "25%        5.400000   1995.000000  \n",
      "50%        6.000000   2006.000000  \n",
      "75%        6.600000   2011.000000  \n",
      "max        9.200000   2015.000000  \n"
     ]
    }
   ],
   "source": [
    "#Summary statistics for relevant numerical variables\n",
    "summary=data.iloc[:,1:].describe()\n",
    "print(summary)"
   ]
  },
  {
   "cell_type": "markdown",
   "metadata": {},
   "source": [
    "Now we'll answer the questions posed above one by one."
   ]
  },
  {
   "cell_type": "markdown",
   "metadata": {},
   "source": [
    "**What is the average budget spent on a movie?**"
   ]
  },
  {
   "cell_type": "code",
   "execution_count": 313,
   "metadata": {
    "scrolled": true
   },
   "outputs": [
    {
     "name": "stdout",
     "output_type": "stream",
     "text": [
      "The average budget spent on a movie is 30828241.0.\n"
     ]
    }
   ],
   "source": [
    "print(\"The average budget spent on a movie is {}.\".format(round(summary.loc[\"mean\",\"budget\"])))"
   ]
  },
  {
   "cell_type": "markdown",
   "metadata": {},
   "source": [
    "**What is the average revenue from a movie?**"
   ]
  },
  {
   "cell_type": "code",
   "execution_count": 314,
   "metadata": {},
   "outputs": [
    {
     "name": "stdout",
     "output_type": "stream",
     "text": [
      "The average revenue from a movie is 89339813.0.\n"
     ]
    }
   ],
   "source": [
    "print(\"The average revenue from a movie is {}.\".format(round(summary.loc[\"mean\",\"revenue\"])))\n"
   ]
  },
  {
   "cell_type": "markdown",
   "metadata": {},
   "source": [
    "**Which actor has been casted the most?**\n"
   ]
  },
  {
   "cell_type": "code",
   "execution_count": 315,
   "metadata": {
    "scrolled": false
   },
   "outputs": [
    {
     "name": "stdout",
     "output_type": "stream",
     "text": [
      "Robert De Niro has been cast the most, 72 times to be specific.\n"
     ]
    }
   ],
   "source": [
    "cast=pd.Series(data[\"cast\"].str.cat(sep='|').split('|')).value_counts().sort_values(ascending=False)[[0]]\n",
    "print(\"{} has been cast the most, {} times to be specific.\".format(cast.keys()[0],cast.values[0]))"
   ]
  },
  {
   "cell_type": "markdown",
   "metadata": {},
   "source": [
    "**Which genre has the highest number of movies?**"
   ]
  },
  {
   "cell_type": "code",
   "execution_count": 316,
   "metadata": {
    "scrolled": false
   },
   "outputs": [
    {
     "name": "stdout",
     "output_type": "stream",
     "text": [
      "Movies mostly belong to drama genre, 4746 drama movies were released.\n"
     ]
    }
   ],
   "source": [
    "genre=pd.Series(data[\"genres\"].str.cat(sep='|').split('|')).value_counts().sort_values(ascending=False)[[0]]\n",
    "print(\"Movies mostly belong to {} genre, {} {} movies were released.\".format(genre.keys()[0].lower(),genre.values[0],genre.keys()[0].lower()))"
   ]
  },
  {
   "cell_type": "markdown",
   "metadata": {},
   "source": [
    "**Which director has the highest number of films?**"
   ]
  },
  {
   "cell_type": "code",
   "execution_count": 317,
   "metadata": {},
   "outputs": [
    {
     "name": "stdout",
     "output_type": "stream",
     "text": [
      "Woody Allen has directed highest number of movies, 45.\n"
     ]
    }
   ],
   "source": [
    "director=data[\"director\"].value_counts().sort_values(ascending=False)[[0]]\n",
    "print(\"{} has directed highest number of movies, {}.\".format(director.keys()[0],director.values[0]))"
   ]
  },
  {
   "cell_type": "markdown",
   "metadata": {},
   "source": [
    "**What is the average runtime of the movies?**"
   ]
  },
  {
   "cell_type": "code",
   "execution_count": 318,
   "metadata": {
    "scrolled": true
   },
   "outputs": [
    {
     "name": "stdout",
     "output_type": "stream",
     "text": [
      "The average runtime of a movie is 102 minutes.\n"
     ]
    }
   ],
   "source": [
    "print(\"The average runtime of a movie is {} minutes.\".format(int(summary.loc[\"mean\",\"runtime\"])))"
   ]
  },
  {
   "cell_type": "markdown",
   "metadata": {},
   "source": [
    "**Which genre is the most popular on an average?**"
   ]
  },
  {
   "cell_type": "code",
   "execution_count": 319,
   "metadata": {
    "scrolled": true
   },
   "outputs": [
    {
     "name": "stdout",
     "output_type": "stream",
     "text": [
      "Adventure genre is most popular, with an average popularity of [1.15847976].\n"
     ]
    }
   ],
   "source": [
    "data_genre = data[[\"genres\"]].applymap(lambda x: x.split('|'))\n",
    "data_1=data.copy()\n",
    "data_1[\"genres\"]=data_genre\n",
    "data_2 = pd.DataFrame(data_1['genres'].values.tolist(),index=data_1['popularity']).stack().reset_index(level=1, drop=True).reset_index(name='genre')\n",
    "m=data_2.groupby(\"genre\").mean()\n",
    "m1=m[m[\"popularity\"]==max(m[\"popularity\"])]\n",
    "print(\"{} genre is most popular, with an average popularity of {}.\".format(m1.index[0],m1.values[0]))\n"
   ]
  },
  {
   "cell_type": "markdown",
   "metadata": {},
   "source": [
    "**Which genre has the maximum budget on an average?**"
   ]
  },
  {
   "cell_type": "code",
   "execution_count": 320,
   "metadata": {},
   "outputs": [
    {
     "name": "stdout",
     "output_type": "stream",
     "text": [
      "Animation genre on an average has the highest average budget of [62981467.48249027].\n"
     ]
    }
   ],
   "source": [
    "data_2 = pd.DataFrame(data_1['genres'].values.tolist(),index=data_1['budget']).stack().reset_index(level=1, drop=True).reset_index(name='genre')\n",
    "m=data_2.groupby(\"genre\").mean()\n",
    "m1=m[m[\"budget\"]==max(m[\"budget\"])]\n",
    "print(\"{} genre on an average has the highest average budget of {}.\".format(m1.index[0],m1.values[0]))\n"
   ]
  },
  {
   "cell_type": "markdown",
   "metadata": {},
   "source": [
    "**Which genre produces maximum revenue on an average?**"
   ]
  },
  {
   "cell_type": "code",
   "execution_count": 321,
   "metadata": {},
   "outputs": [
    {
     "name": "stdout",
     "output_type": "stream",
     "text": [
      "Animation genre on an average produces the highest average revenue of [2.21957753e+08].\n"
     ]
    }
   ],
   "source": [
    "data_2 = pd.DataFrame(data_1['genres'].values.tolist(),index=data_1['revenue']).stack().reset_index(level=1, drop=True).reset_index(name='genre')\n",
    "m=data_2.groupby(\"genre\").mean()\n",
    "m1=m[m[\"revenue\"]==max(m[\"revenue\"])]\n",
    "print(\"{} genre on an average produces the highest average revenue of {}.\".format(m1.index[0],m1.values[0]))\n"
   ]
  },
  {
   "cell_type": "markdown",
   "metadata": {
    "collapsed": true
   },
   "source": [
    "Next, we'll consider the deeper questions.\n"
   ]
  },
  {
   "cell_type": "markdown",
   "metadata": {},
   "source": [
    "** How the popularity of movies in general has changed over the years? Is the trend similar across the top genres?**"
   ]
  },
  {
   "cell_type": "code",
   "execution_count": 322,
   "metadata": {
    "scrolled": true
   },
   "outputs": [
    {
     "data": {
      "text/plain": [
       "<matplotlib.legend.Legend at 0x14ab66d0>"
      ]
     },
     "execution_count": 322,
     "metadata": {},
     "output_type": "execute_result"
    },
    {
     "data": {
      "image/png": "[encoded data removed]",
      "text/plain": [
       "<Figure size 432x288 with 1 Axes>"
      ]
     },
     "metadata": {},
     "output_type": "display_data"
    }
   ],
   "source": [
    "#Plotting general popularity trend across the years\n",
    "pop_year=data.groupby(\"release_year\").mean()[\"popularity\"]\n",
    "plt.plot(pop_year,label=\"popularity\")\n",
    "plt.xlabel(\"Year of release\")\n",
    "plt.ylabel(\"Popularity\")\n",
    "plt.title(\"Change in movie popularity over the years\")\n",
    "plt.legend()\n"
   ]
  },
  {
   "cell_type": "markdown",
   "metadata": {},
   "source": [
    "Now, we'll see the trend for top 5 genres which had most number of movies in these years."
   ]
  },
  {
   "cell_type": "code",
   "execution_count": 323,
   "metadata": {},
   "outputs": [
    {
     "data": {
      "image/png": "[encoded data removed]",
      "text/plain": [
       "<Figure size 432x288 with 1 Axes>"
      ]
     },
     "metadata": {},
     "output_type": "display_data"
    }
   ],
   "source": [
    "data_2 = pd.DataFrame(data_1['genres'].values.tolist(),index=data_1['id']).stack().reset_index(level=1, drop=True).reset_index(name='genre')\n",
    "data_3=pd.merge(data_2, data, how='left', on=['id'])[[\"genre\",\"release_year\",\"popularity\"]]\n",
    "\n",
    "#Selecting top 5 genres\n",
    "g=data_3[\"genre\"].value_counts()[:5]\n",
    "\n",
    "#Plotting popularity for 5 genres\n",
    "for i in g.keys():\n",
    "    plt.plot(data_3[data_3['genre']==i].groupby(['release_year']).mean(),label=i)\n",
    "    plt.xlabel(\"Year of release\")\n",
    "plt.ylabel(\"Popularity\")\n",
    "plt.title(\"Change in movie popularity across different genres\")\n",
    "plt.legend()  \n",
    "plt.show()\n"
   ]
  },
  {
   "cell_type": "markdown",
   "metadata": {},
   "source": [
    "The plots show that the genrewise trends are same as the overall trend. However, the *action* genre was extremely popular during 80s."
   ]
  },
  {
   "cell_type": "markdown",
   "metadata": {},
   "source": [
    "Now we'll do a similar analysis for movie budgets."
   ]
  },
  {
   "cell_type": "markdown",
   "metadata": {},
   "source": [
    "**How the budget of movies in general has changed over the years? Is the trend similar across the top genres?**"
   ]
  },
  {
   "cell_type": "code",
   "execution_count": 324,
   "metadata": {},
   "outputs": [
    {
     "data": {
      "text/plain": [
       "<matplotlib.legend.Legend at 0xedc0370>"
      ]
     },
     "execution_count": 324,
     "metadata": {},
     "output_type": "execute_result"
    },
    {
     "data": {
      "image/png": "[encoded data removed]",
      "text/plain": [
       "<Figure size 432x288 with 1 Axes>"
      ]
     },
     "metadata": {},
     "output_type": "display_data"
    }
   ],
   "source": [
    "#Plotting general budget trend across the years\n",
    "pop_year=data.groupby(\"release_year\").mean()[\"budget\"]\n",
    "plt.plot(pop_year,label=\"budget\")\n",
    "plt.xlabel(\"Year of release\")\n",
    "plt.ylabel(\"Budget\")\n",
    "plt.title(\"Change in movie budget over the years\")\n",
    "plt.legend()\n"
   ]
  },
  {
   "cell_type": "markdown",
   "metadata": {},
   "source": [
    "Now, we'll see the trend for top 5 genres again."
   ]
  },
  {
   "cell_type": "code",
   "execution_count": 325,
   "metadata": {},
   "outputs": [
    {
     "data": {
      "image/png": "[encoded data removed]",
      "text/plain": [
       "<Figure size 432x288 with 1 Axes>"
      ]
     },
     "metadata": {},
     "output_type": "display_data"
    }
   ],
   "source": [
    "data_2 = pd.DataFrame(data_1['genres'].values.tolist(),index=data_1['id']).stack().reset_index(level=1, drop=True).reset_index(name='genre')\n",
    "data_3=pd.merge(data_2, data, how='left', on=['id'])[[\"genre\",\"release_year\",\"budget\"]]\n",
    "\n",
    "#Selecting top 5 genres\n",
    "g=data_3[\"genre\"].value_counts()[:5]\n",
    "\n",
    "#Plotting budget for 5 genres\n",
    "for i in g.keys():\n",
    "    plt.plot(data_3[data_3['genre']==i].groupby(['release_year']).mean(),label=i)\n",
    "    plt.xlabel(\"Year of release\")\n",
    "plt.ylabel(\"budget\")\n",
    "plt.title(\"Change in movie budget across different genres\")\n",
    "plt.legend()  \n",
    "plt.show()\n"
   ]
  },
  {
   "cell_type": "markdown",
   "metadata": {},
   "source": [
    "The plots show that movie budget has increased consistently over the years. For *action* movies, the increase is steeper from 2000."
   ]
  },
  {
   "cell_type": "markdown",
   "metadata": {},
   "source": [
    "**How the number of movies released in a year has changed over the years?**"
   ]
  },
  {
   "cell_type": "code",
   "execution_count": 326,
   "metadata": {},
   "outputs": [
    {
     "data": {
      "text/plain": [
       "<matplotlib.legend.Legend at 0x14a8da70>"
      ]
     },
     "execution_count": 326,
     "metadata": {},
     "output_type": "execute_result"
    },
    {
     "data": {
      "image/png": "[encoded data removed]",
      "text/plain": [
       "<Figure size 432x288 with 1 Axes>"
      ]
     },
     "metadata": {},
     "output_type": "display_data"
    }
   ],
   "source": [
    "#Plotting trend for number of movies released across the years\n",
    "pop_year=data.groupby(\"release_year\")[\"id\"].count()\n",
    "plt.plot(pop_year,label=\"Number of movies\")\n",
    "plt.xlabel(\"Year of release\")\n",
    "plt.ylabel(\"Number of movies\")\n",
    "plt.title(\"Change in number of movies released over the years\")\n",
    "plt.legend()\n",
    "\n"
   ]
  },
  {
   "cell_type": "markdown",
   "metadata": {},
   "source": [
    "** Is there any association between ratings and revenue?** <br/>\n",
    "We're considering the *vote_average* as rating here."
   ]
  },
  {
   "cell_type": "code",
   "execution_count": 327,
   "metadata": {},
   "outputs": [
    {
     "data": {
      "text/plain": [
       "Text(0.5,0,'Average vote')"
      ]
     },
     "execution_count": 327,
     "metadata": {},
     "output_type": "execute_result"
    },
    {
     "data": {
      "image/png": "[encoded data removed]",
      "text/plain": [
       "<Figure size 432x288 with 1 Axes>"
      ]
     },
     "metadata": {},
     "output_type": "display_data"
    }
   ],
   "source": [
    "#Plotting a scatterplot of ratings and revenue first\n",
    "plt.scatter(x=data[\"vote_average\"],y=data[\"revenue\"])\n",
    "plt.title(\"Scatterplot between rating and revenue\")\n",
    "plt.xlabel(\"Average vote\")"
   ]
  },
  {
   "cell_type": "markdown",
   "metadata": {},
   "source": [
    "A moderate positive linear association seems to be present. Let's check the correlation."
   ]
  },
  {
   "cell_type": "code",
   "execution_count": 328,
   "metadata": {},
   "outputs": [
    {
     "data": {
      "text/html": [
       "<div>\n",
       "<style scoped>\n",
       "    .dataframe tbody tr th:only-of-type {\n",
       "        vertical-align: middle;\n",
       "    }\n",
       "\n",
       "    .dataframe tbody tr th {\n",
       "        vertical-align: top;\n",
       "    }\n",
       "\n",
       "    .dataframe thead th {\n",
       "        text-align: right;\n",
       "    }\n",
       "</style>\n",
       "<table border=\"1\" class=\"dataframe\">\n",
       "  <thead>\n",
       "    <tr style=\"text-align: right;\">\n",
       "      <th></th>\n",
       "      <th>vote_average</th>\n",
       "      <th>revenue</th>\n",
       "    </tr>\n",
       "  </thead>\n",
       "  <tbody>\n",
       "    <tr>\n",
       "      <th>vote_average</th>\n",
       "      <td>1.000000</td>\n",
       "      <td>0.207157</td>\n",
       "    </tr>\n",
       "    <tr>\n",
       "      <th>revenue</th>\n",
       "      <td>0.207157</td>\n",
       "      <td>1.000000</td>\n",
       "    </tr>\n",
       "  </tbody>\n",
       "</table>\n",
       "</div>"
      ],
      "text/plain": [
       "              vote_average   revenue\n",
       "vote_average      1.000000  0.207157\n",
       "revenue           0.207157  1.000000"
      ]
     },
     "execution_count": 328,
     "metadata": {},
     "output_type": "execute_result"
    }
   ],
   "source": [
    "#Calculating correlation coefficient\n",
    "data.loc[:,[\"vote_average\",\"revenue\"]].corr(method='pearson')"
   ]
  },
  {
   "cell_type": "markdown",
   "metadata": {},
   "source": [
    "As expected, a weak positive linear correlation is found."
   ]
  },
  {
   "cell_type": "markdown",
   "metadata": {},
   "source": [
    "**What are the characteristics of the successful movies?** <br/>(Note that, success can be defined in two ways, revenue and ratings. Not all critically acclaimed highly rated movies generate high revenues.)"
   ]
  },
  {
   "cell_type": "markdown",
   "metadata": {},
   "source": [
    "To answer this question, we would first divide the data according to both level of popularity and revenue, based on quartiles. Then we'll look into the differences among movies falling into highest quartile and the other quartile in terms of different characteristics. "
   ]
  },
  {
   "cell_type": "code",
   "execution_count": 329,
   "metadata": {},
   "outputs": [],
   "source": [
    "data[\"Revenue_level\"]=pd.qcut(data[\"revenue\"], 4, labels=[\"Low\", \"Medium\", \"High\",\"Very high\"])\n",
    "data[\"Rating_level\"]=pd.qcut(data[\"vote_average\"], 4, labels=[\"Low\", \"Medium\", \"High\",\"Very high\"])"
   ]
  },
  {
   "cell_type": "code",
   "execution_count": 330,
   "metadata": {},
   "outputs": [
    {
     "name": "stdout",
     "output_type": "stream",
     "text": [
      "Revenue_level\n",
      "Low          9.724259e+06\n",
      "Medium       2.015680e+07\n",
      "High         3.085682e+07\n",
      "Very high    7.212286e+07\n",
      "Name: budget, dtype: float64\n"
     ]
    },
    {
     "data": {
      "image/png": "[encoded data removed]",
      "text/plain": [
       "<Figure size 432x288 with 1 Axes>"
      ]
     },
     "metadata": {},
     "output_type": "display_data"
    }
   ],
   "source": [
    "#Budget level across different revenue quartiles\n",
    "plt.bar(np.arange(4),data[\"budget\"].groupby(data[\"Revenue_level\"]).mean())\n",
    "label=[\"Low\", \"Medium\", \"High\",\"Very high\"]\n",
    "plt.xticks(np.arange(4),label)\n",
    "plt.title(\"Average budget across different revenue levels\")\n",
    "plt.xlabel(\"Revenue level\")\n",
    "plt.ylabel(\"Budget\")\n",
    "print(data[\"budget\"].groupby(data[\"Revenue_level\"]).mean())"
   ]
  },
  {
   "cell_type": "markdown",
   "metadata": {},
   "source": [
    "This clearly shows that movies with more budget tend to generate more revenue."
   ]
  },
  {
   "cell_type": "code",
   "execution_count": 331,
   "metadata": {},
   "outputs": [
    {
     "name": "stdout",
     "output_type": "stream",
     "text": [
      "The average budget of movies having very high revenue is 72122857.12.\n",
      "The average of revenue of movies falling in very high bucket is 278366815.95.\n"
     ]
    }
   ],
   "source": [
    "\n",
    "print(\"The average budget of movies having very high revenue is {}.\".format(round(data[data[\"Revenue_level\"]==\"Very high\"][\"budget\"].mean(),2)))\n",
    "\n",
    "print(\"The average of revenue of movies falling in very high bucket is {}.\".format(round(data[data[\"Revenue_level\"]==\"Very high\"][\"revenue\"].mean(),2)))"
   ]
  },
  {
   "cell_type": "code",
   "execution_count": 332,
   "metadata": {},
   "outputs": [
    {
     "data": {
      "text/plain": [
       "Text(0,0.5,'Runtime')"
      ]
     },
     "execution_count": 332,
     "metadata": {},
     "output_type": "execute_result"
    },
    {
     "data": {
      "image/png": "[encoded data removed]",
      "text/plain": [
       "<Figure size 432x288 with 1 Axes>"
      ]
     },
     "metadata": {},
     "output_type": "display_data"
    }
   ],
   "source": [
    "#Runtime level across different revenue quartiles\n",
    "plt.bar(np.arange(4),data[\"runtime\"].groupby(data[\"Revenue_level\"]).mean())\n",
    "label=[\"Low\", \"Medium\", \"High\",\"Very high\"]\n",
    "plt.xticks(np.arange(4),label)\n",
    "plt.title(\"Average runtime across different revenue levels\")\n",
    "plt.xlabel(\"Revenue level\")\n",
    "plt.ylabel(\"Runtime\")"
   ]
  },
  {
   "cell_type": "markdown",
   "metadata": {},
   "source": [
    "Though with increasing runtime revenue tends to increase, there is not much difference in terms of runtime at different levels of revenue."
   ]
  },
  {
   "cell_type": "code",
   "execution_count": 333,
   "metadata": {},
   "outputs": [
    {
     "name": "stdout",
     "output_type": "stream",
     "text": [
      "The average runtime of movies having very high revenue is 115.37.\n"
     ]
    }
   ],
   "source": [
    "print(\"The average runtime of movies having very high revenue is {}.\".format(round(data[data[\"Revenue_level\"]==\"Very high\"][\"runtime\"].mean(),2)))\n"
   ]
  },
  {
   "cell_type": "code",
   "execution_count": 334,
   "metadata": {
    "scrolled": true
   },
   "outputs": [
    {
     "name": "stdout",
     "output_type": "stream",
     "text": [
      "Very high\n",
      "Paramount Pictures                              24\n",
      "Universal Pictures                              15\n",
      "DreamWorks Animation                            13\n",
      "Walt Disney Pictures|Pixar Animation Studios    13\n",
      "Walt Disney Pictures                            10\n",
      "Name: production_companies, dtype: int64\n",
      "High\n",
      "Paramount Pictures    41\n",
      "Warner Bros.          19\n",
      "Universal Pictures    19\n",
      "Columbia Pictures     19\n",
      "New Line Cinema       16\n",
      "Name: production_companies, dtype: int64\n",
      "Medium\n",
      "Paramount Pictures    38\n",
      "Universal Pictures    34\n",
      "Warner Bros.          19\n",
      "Columbia Pictures     18\n",
      "New Line Cinema       16\n",
      "Name: production_companies, dtype: int64\n",
      "nan\n",
      "Series([], Name: production_companies, dtype: int64)\n",
      "Low\n",
      "Metro-Goldwyn-Mayer (MGM)    13\n",
      "Universal Pictures           10\n",
      "New Line Cinema               8\n",
      "TriStar Pictures              5\n",
      "Lions Gate Films              5\n",
      "Name: production_companies, dtype: int64\n"
     ]
    }
   ],
   "source": [
    "#Checking the top 5 production companies at each revenue level\n",
    "for i in data[\"Revenue_level\"].unique():\n",
    "    data_1=data[data[\"Revenue_level\"]==i]\n",
    "    print(i)\n",
    "    print(data_1[\"production_companies\"].value_counts().sort_values(ascending=False)[:5])"
   ]
  },
  {
   "cell_type": "markdown",
   "metadata": {},
   "source": [
    "We find almost the same set of companies in each revenue bucket, so revenue doesn't depend much on production companies."
   ]
  },
  {
   "cell_type": "code",
   "execution_count": 335,
   "metadata": {},
   "outputs": [
    {
     "name": "stdout",
     "output_type": "stream",
     "text": [
      "Very high\n",
      "Tom Cruise            26\n",
      "Brad Pitt             25\n",
      "Tom Hanks             23\n",
      "Sylvester Stallone    22\n",
      "Harrison Ford         20\n",
      "Name: casts, dtype: int64\n",
      "High\n",
      "Robert De Niro    19\n",
      "Bruce Willis      16\n",
      "Nicolas Cage      14\n",
      "Jason Statham     14\n",
      "Alec Baldwin      14\n",
      "Name: casts, dtype: int64\n",
      "Medium\n",
      "Dennis Quaid        16\n",
      "Robert De Niro      14\n",
      "Christian Slater    12\n",
      "Nicolas Cage        11\n",
      "Julianne Moore      11\n",
      "Name: casts, dtype: int64\n",
      "nan\n",
      "Series([], Name: casts, dtype: int64)\n",
      "Low\n",
      "Morgan Freeman     11\n",
      "Willem Dafoe        9\n",
      "Woody Harrelson     9\n",
      "Rosario Dawson      9\n",
      "Mickey Rourke       9\n",
      "Name: casts, dtype: int64\n"
     ]
    }
   ],
   "source": [
    "#Checking the top 5 casts at each revenue level\n",
    "data_cast = data[[\"cast\"]].applymap(lambda x: x.split('|'))\n",
    "data_2=data.copy()\n",
    "data_2[\"cast\"]=data_cast\n",
    "data_3 = pd.DataFrame(data_2['cast'].values.tolist(),index=data_2['id']).stack().reset_index(level=1, drop=True).reset_index(name='casts')\n",
    "data_4=pd.merge(data_3, data, how='left', on=['id'])\n",
    "\n",
    "\n",
    "for i in data_4[\"Revenue_level\"].unique():\n",
    "    data_1=data_4[data_4[\"Revenue_level\"]==i]\n",
    "    print(i)\n",
    "    print(data_1[\"casts\"].value_counts().sort_values(ascending=False)[:5])"
   ]
  },
  {
   "cell_type": "markdown",
   "metadata": {},
   "source": [
    "The results vary for each bucket, so we can assume that revenue depends on the casting to some extent."
   ]
  },
  {
   "cell_type": "code",
   "execution_count": 336,
   "metadata": {},
   "outputs": [
    {
     "name": "stdout",
     "output_type": "stream",
     "text": [
      "Very high\n",
      "Action       450\n",
      "Comedy       445\n",
      "Drama        417\n",
      "Adventure    387\n",
      "Thriller     350\n",
      "Name: genre, dtype: int64\n",
      "High\n",
      "Drama       551\n",
      "Comedy      477\n",
      "Thriller    385\n",
      "Action      314\n",
      "Crime       224\n",
      "Name: genre, dtype: int64\n",
      "Medium\n",
      "Drama       618\n",
      "Comedy      446\n",
      "Thriller    367\n",
      "Action      285\n",
      "Romance     254\n",
      "Name: genre, dtype: int64\n",
      "nan\n",
      "Series([], Name: genre, dtype: int64)\n",
      "Low\n",
      "Drama       685\n",
      "Comedy      402\n",
      "Thriller    320\n",
      "Romance     222\n",
      "Action      211\n",
      "Name: genre, dtype: int64\n"
     ]
    }
   ],
   "source": [
    "#Checking the top 5 genres at each revenue level\n",
    "data_2=data.copy()\n",
    "data_2[\"genres\"]=data_genre\n",
    "data_3 = pd.DataFrame(data_2['genres'].values.tolist(),index=data_2['id']).stack().reset_index(level=1, drop=True).reset_index(name='genre')\n",
    "data_4=pd.merge(data_3, data, how='left', on=['id'])\n",
    "\n",
    "\n",
    "for i in data_4[\"Revenue_level\"].unique():\n",
    "    data_1=data_4[data_4[\"Revenue_level\"]==i]\n",
    "    print(i)\n",
    "    print(data_1[\"genre\"].value_counts().sort_values(ascending=False)[:5])"
   ]
  },
  {
   "cell_type": "markdown",
   "metadata": {},
   "source": [
    "Apart from adventure all the other genres appear in every bucket, so revenue not hugely depends on genre."
   ]
  },
  {
   "cell_type": "markdown",
   "metadata": {},
   "source": [
    "Now, we'll check for the same things for different rating buckets."
   ]
  },
  {
   "cell_type": "code",
   "execution_count": 337,
   "metadata": {},
   "outputs": [
    {
     "data": {
      "text/plain": [
       "Text(0,0.5,'Budget')"
      ]
     },
     "execution_count": 337,
     "metadata": {},
     "output_type": "execute_result"
    },
    {
     "data": {
      "image/png": "[encoded data removed]",
      "text/plain": [
       "<Figure size 432x288 with 1 Axes>"
      ]
     },
     "metadata": {},
     "output_type": "display_data"
    }
   ],
   "source": [
    "#Budget level across different rating quartiles\n",
    "plt.bar(np.arange(4),data[\"budget\"].groupby(data[\"Rating_level\"]).mean())\n",
    "label=[\"Low\", \"Medium\", \"High\",\"Very high\"]\n",
    "plt.xticks(np.arange(4),label)\n",
    "plt.title(\"Average budget across different rating levels\")\n",
    "plt.xlabel(\"Rating level\")\n",
    "plt.ylabel(\"Budget\")"
   ]
  },
  {
   "cell_type": "markdown",
   "metadata": {},
   "source": [
    "There is no clear trend as seen in case of revenue. So unlike revenue, ratings don't depend on budget."
   ]
  },
  {
   "cell_type": "code",
   "execution_count": 338,
   "metadata": {},
   "outputs": [
    {
     "data": {
      "text/plain": [
       "Text(0,0.5,'Runtime')"
      ]
     },
     "execution_count": 338,
     "metadata": {},
     "output_type": "execute_result"
    },
    {
     "data": {
      "image/png": "[encoded data removed]",
      "text/plain": [
       "<Figure size 432x288 with 1 Axes>"
      ]
     },
     "metadata": {},
     "output_type": "display_data"
    }
   ],
   "source": [
    "#Runtime level across different rating quartiles\n",
    "plt.bar(np.arange(4),data[\"runtime\"].groupby(data[\"Rating_level\"]).mean())\n",
    "label=[\"Low\", \"Medium\", \"High\",\"Very high\"]\n",
    "plt.xticks(np.arange(4),label)\n",
    "plt.title(\"Average runtime across different rating levels\")\n",
    "plt.xlabel(\"Rating level\")\n",
    "plt.ylabel(\"Runtime\")"
   ]
  },
  {
   "cell_type": "markdown",
   "metadata": {},
   "source": [
    "Again, runtime is almost similar across the buckets with a slightly increasing trend."
   ]
  },
  {
   "cell_type": "code",
   "execution_count": 339,
   "metadata": {},
   "outputs": [
    {
     "name": "stdout",
     "output_type": "stream",
     "text": [
      "High\n",
      "Paramount Pictures                        54\n",
      "Universal Pictures                        33\n",
      "Walt Disney Pictures                      21\n",
      "New Line Cinema                           21\n",
      "Twentieth Century Fox Film Corporation    19\n",
      "Name: production_companies, dtype: int64\n",
      "Very high\n",
      "Paramount Pictures         39\n",
      "Universal Pictures         28\n",
      "Warner Bros.               23\n",
      "Columbia Pictures          18\n",
      "Pixar Animation Studios    17\n",
      "Name: production_companies, dtype: int64\n",
      "Medium\n",
      "Universal Pictures     43\n",
      "Paramount Pictures     40\n",
      "Columbia Pictures      24\n",
      "Touchstone Pictures    20\n",
      "Warner Bros.           18\n",
      "Name: production_companies, dtype: int64\n",
      "Low\n",
      "Universal Pictures           29\n",
      "Walt Disney Pictures         27\n",
      "Warner Bros.                 25\n",
      "Paramount Pictures           23\n",
      "Metro-Goldwyn-Mayer (MGM)    23\n",
      "Name: production_companies, dtype: int64\n"
     ]
    }
   ],
   "source": [
    "#Checking the top 5 production companies at each rating level\n",
    "for i in data[\"Rating_level\"].unique():\n",
    "    data_1=data[data[\"Rating_level\"]==i]\n",
    "    print(i)\n",
    "    print(data_1[\"production_companies\"].value_counts().sort_values(ascending=False)[:5])"
   ]
  },
  {
   "cell_type": "markdown",
   "metadata": {},
   "source": [
    "We find almost the same set of companies in each rating bucket, so rating doesn't depend much on production companies either."
   ]
  },
  {
   "cell_type": "code",
   "execution_count": 340,
   "metadata": {},
   "outputs": [
    {
     "name": "stdout",
     "output_type": "stream",
     "text": [
      "High\n",
      "Woody Allen          17\n",
      "Steven Soderbergh    13\n",
      "Ron Howard           12\n",
      "Tony Scott           10\n",
      "Richard Donner       10\n",
      "Name: director, dtype: int64\n",
      "Very high\n",
      "Martin Scorsese     21\n",
      "Steven Spielberg    18\n",
      "Clint Eastwood      18\n",
      "Woody Allen         17\n",
      "Wes Anderson        11\n",
      "Name: director, dtype: int64\n",
      "Medium\n",
      "Woody Allen       10\n",
      "Stephen Herek      9\n",
      "Walter Hill        8\n",
      "Gerald Thomas      7\n",
      "Garry Marshall     7\n",
      "Name: director, dtype: int64\n",
      "Low\n",
      "Uwe Boll            13\n",
      "Stuart Gillard       9\n",
      "Peter Hyams          8\n",
      "Brian Levant         7\n",
      "Robert Rodriguez     7\n",
      "Name: director, dtype: int64\n"
     ]
    }
   ],
   "source": [
    "#Checking the top 5 directors at each rating level\n",
    "for i in data[\"Rating_level\"].unique():\n",
    "    data_1=data[data[\"Rating_level\"]==i]\n",
    "    print(i)\n",
    "    print(data_1[\"director\"].value_counts().sort_values(ascending=False)[:5])"
   ]
  },
  {
   "cell_type": "code",
   "execution_count": 341,
   "metadata": {},
   "outputs": [
    {
     "name": "stdout",
     "output_type": "stream",
     "text": [
      "High\n",
      "Michael Caine     19\n",
      "Nicole Kidman     19\n",
      "Robert De Niro    19\n",
      "Susan Sarandon    19\n",
      "Mel Gibson        18\n",
      "Name: casts, dtype: int64\n",
      "\n",
      "Very high\n",
      "Robert De Niro       26\n",
      "Tom Hanks            22\n",
      "Brad Pitt            22\n",
      "Samuel L. Jackson    21\n",
      "Morgan Freeman       18\n",
      "Name: casts, dtype: int64\n",
      "\n",
      "Medium\n",
      "Nicolas Cage         21\n",
      "Alec Baldwin         21\n",
      "Samuel L. Jackson    20\n",
      "Bruce Willis         19\n",
      "John Goodman         19\n",
      "Name: casts, dtype: int64\n",
      "\n",
      "Low\n",
      "Jean-Claude Van Damme    31\n",
      "Steven Seagal            29\n",
      "Dolph Lundgren           22\n",
      "Danny Trejo              21\n",
      "Bruce Willis             18\n",
      "Name: casts, dtype: int64\n",
      "\n"
     ]
    }
   ],
   "source": [
    "#Checking the top 5 casts at each rating level\n",
    "data_cast = data[[\"cast\"]].applymap(lambda x: x.split('|'))\n",
    "data_2=data.copy()\n",
    "data_2[\"cast\"]=data_cast\n",
    "data_3 = pd.DataFrame(data_2['cast'].values.tolist(),index=data_2['id']).stack().reset_index(level=1, drop=True).reset_index(name='casts')\n",
    "data_4=pd.merge(data_3, data, how='left', on=['id'])\n",
    "\n",
    "\n",
    "for i in data_4[\"Rating_level\"].unique():\n",
    "    data_1=data_4[data_4[\"Rating_level\"]==i]\n",
    "    print(i)\n",
    "    print\n",
    "    print(data_1[\"casts\"].value_counts().sort_values(ascending=False)[:5])\n",
    "    print()"
   ]
  },
  {
   "cell_type": "markdown",
   "metadata": {},
   "source": [
    "The results vary for each bucket, so we can assume that revenue depends on the casting and director to some extent."
   ]
  },
  {
   "cell_type": "code",
   "execution_count": 342,
   "metadata": {},
   "outputs": [
    {
     "name": "stdout",
     "output_type": "stream",
     "text": [
      "High\n",
      "Drama       1382\n",
      "Comedy      1002\n",
      "Thriller     719\n",
      "Action       595\n",
      "Romance      534\n",
      "Name: genre, dtype: int64\n",
      "Very high\n",
      "Drama       1355\n",
      "Comedy       675\n",
      "Thriller     414\n",
      "Action       392\n",
      "Romance      352\n",
      "Name: genre, dtype: int64\n",
      "Medium\n",
      "Drama       1173\n",
      "Comedy      1026\n",
      "Thriller     787\n",
      "Action       623\n",
      "Romance      465\n",
      "Name: genre, dtype: int64\n",
      "Low\n",
      "Comedy      1072\n",
      "Thriller     982\n",
      "Horror       856\n",
      "Drama        836\n",
      "Action       766\n",
      "Name: genre, dtype: int64\n"
     ]
    }
   ],
   "source": [
    "#Checking the top 5 genres at each rating level\n",
    "data_2=data.copy()\n",
    "data_2[\"genres\"]=data_genre\n",
    "data_3 = pd.DataFrame(data_2['genres'].values.tolist(),index=data_2['id']).stack().reset_index(level=1, drop=True).reset_index(name='genre')\n",
    "data_4=pd.merge(data_3, data, how='left', on=['id'])\n",
    "\n",
    "\n",
    "for i in data_4[\"Rating_level\"].unique():\n",
    "    data_1=data_4[data_4[\"Rating_level\"]==i]\n",
    "    print(i)\n",
    "    print(data_1[\"genre\"].value_counts().sort_values(ascending=False)[:5])"
   ]
  },
  {
   "cell_type": "markdown",
   "metadata": {},
   "source": [
    "We see same set of genres in each bucket, so it's safe to assume ratings don't depend on the genre of the movie."
   ]
  },
  {
   "cell_type": "markdown",
   "metadata": {},
   "source": [
    "**Based on keywords, how the movie preferences have changed over the years?**"
   ]
  },
  {
   "cell_type": "code",
   "execution_count": 343,
   "metadata": {},
   "outputs": [
    {
     "name": "stdout",
     "output_type": "stream",
     "text": [
      "2015\n",
      "woman director    13\n",
      "Name: keywords, dtype: int64\n",
      "2014\n",
      "woman director    14\n",
      "Name: keywords, dtype: int64\n",
      "2013\n",
      "woman director    34\n",
      "Name: keywords, dtype: int64\n",
      "2012\n",
      "woman director    16\n",
      "Name: keywords, dtype: int64\n",
      "2011\n",
      "woman director    8\n",
      "Name: keywords, dtype: int64\n",
      "2010\n",
      "duringcreditsstinger    7\n",
      "Name: keywords, dtype: int64\n",
      "2009\n",
      "independent film    10\n",
      "Name: keywords, dtype: int64\n",
      "2008\n",
      "independent film    8\n",
      "Name: keywords, dtype: int64\n",
      "2007\n",
      "independent film    8\n",
      "Name: keywords, dtype: int64\n",
      "2006\n",
      "independent film    5\n",
      "Name: keywords, dtype: int64\n",
      "2005\n",
      "independent film    6\n",
      "Name: keywords, dtype: int64\n",
      "2004\n",
      "holiday    2\n",
      "Name: keywords, dtype: int64\n",
      "2003\n",
      "independent film    3\n",
      "Name: keywords, dtype: int64\n",
      "2002\n",
      "aftercreditsstinger|duringcreditsstinger    2\n",
      "Name: keywords, dtype: int64\n",
      "2001\n",
      "independent film    3\n",
      "Name: keywords, dtype: int64\n",
      "2000\n",
      "independent film    4\n",
      "Name: keywords, dtype: int64\n",
      "1999\n",
      "sport    2\n",
      "Name: keywords, dtype: int64\n",
      "1998\n",
      "independent film    2\n",
      "Name: keywords, dtype: int64\n",
      "1997\n",
      "independent film    2\n",
      "Name: keywords, dtype: int64\n",
      "1996\n",
      "independent film    3\n",
      "Name: keywords, dtype: int64\n",
      "1995\n",
      "parents kids relationship|sister sister relationship|mockery|ugliness|independent film    1\n",
      "Name: keywords, dtype: int64\n",
      "1994\n",
      "independent film    3\n",
      "Name: keywords, dtype: int64\n",
      "1993\n",
      "brother sister relationship|autism|car garage    1\n",
      "Name: keywords, dtype: int64\n",
      "1992\n",
      "corruption|prostitute|sex|jealousy|fight    1\n",
      "Name: keywords, dtype: int64\n",
      "1991\n",
      "woman director    2\n",
      "Name: keywords, dtype: int64\n",
      "1990\n",
      "mexico|revenge|suspense|betrayal    1\n",
      "Name: keywords, dtype: int64\n",
      "1989\n",
      "independent film    2\n",
      "Name: keywords, dtype: int64\n",
      "1988\n",
      "sport    2\n",
      "Name: keywords, dtype: int64\n",
      "1987\n",
      "journalist|journalism|workaholic|news broadcast|television    1\n",
      "Name: keywords, dtype: int64\n",
      "1986\n",
      "ransom|lover (female)|business man|kidnapping    1\n",
      "Name: keywords, dtype: int64\n",
      "1985\n",
      "father-son relationship|profession|failure|extramarital affair|family conflict    1\n",
      "Name: keywords, dtype: int64\n",
      "1984\n",
      "adventure|american football player|film noir    1\n",
      "Name: keywords, dtype: int64\n",
      "1983\n",
      "christmas tree|from rags to riches|broker|beggar|dollar    1\n",
      "Name: keywords, dtype: int64\n",
      "1982\n",
      "slasher|woman director    1\n",
      "Name: keywords, dtype: int64\n",
      "1981\n",
      "chicago|burglar|car dealer|shadowing|death of a friend    1\n",
      "Name: keywords, dtype: int64\n",
      "1980\n",
      "remake|lord    1\n",
      "Name: keywords, dtype: int64\n",
      "1979\n",
      "new york|adultery|based on novel|lolita|love    1\n",
      "Name: keywords, dtype: int64\n",
      "1978\n",
      "wheelchair|vietnam|war|volunteer|love    1\n",
      "Name: keywords, dtype: int64\n",
      "1977\n",
      "thriller|american football stadium|dirigible    1\n",
      "Name: keywords, dtype: int64\n",
      "1976\n",
      "japanese|world war ii|midway|soldier|american    1\n",
      "Name: keywords, dtype: int64\n",
      "1975\n",
      "comedian    1\n",
      "Name: keywords, dtype: int64\n",
      "1974\n",
      "texas|chain saw|gore|midnight movie|surprise ending    1\n",
      "Name: keywords, dtype: int64\n",
      "1973\n",
      "prison|chicago|prostitute|bank robber|biography    1\n",
      "Name: keywords, dtype: int64\n",
      "1972\n",
      "berlin|sex|entertainer|cabaret|gramophone    1\n",
      "Name: keywords, dtype: int64\n",
      "1971\n",
      "prison|drug addiction|hearing|totalitarian regime|phasing    1\n",
      "Name: keywords, dtype: int64\n",
      "1970\n",
      "billy the kid|cattle|quick draw|pat garrett    1\n",
      "Name: keywords, dtype: int64\n",
      "1969\n",
      "wyoming|historical figure|loot sharing    1\n",
      "Name: keywords, dtype: int64\n",
      "1968\n",
      "italy|commando|canadian army    1\n",
      "Name: keywords, dtype: int64\n",
      "1967\n",
      "london|japan|england|assassination|helicopter    1\n",
      "Name: keywords, dtype: int64\n",
      "1966\n",
      "plastic surgery|suspense    1\n",
      "Name: keywords, dtype: int64\n",
      "1965\n",
      "holiday|christmas    1\n",
      "Name: keywords, dtype: int64\n",
      "1964\n",
      "south seas|island|airplane|coast watcher    1\n",
      "Name: keywords, dtype: int64\n",
      "1963\n",
      "love|teacher    1\n",
      "Name: keywords, dtype: int64\n",
      "1962\n",
      "washington d.c.|u.s. president|senate|blackmail|senator    1\n",
      "Name: keywords, dtype: int64\n",
      "1961\n",
      "renegade|texas ranger|gambler    1\n",
      "Name: keywords, dtype: int64\n",
      "1960\n",
      "friends|girl|tween girl    1\n",
      "Name: keywords, dtype: int64\n"
     ]
    }
   ],
   "source": [
    "r=pd.Series(data[\"release_year\"]).sort_values(ascending=False)\n",
    "for i in r.unique():\n",
    "    data_1=data[data[\"release_year\"]==i]\n",
    "    print(i)\n",
    "    print(data_1[\"keywords\"].value_counts().sort_values(ascending=False)[[0]])"
   ]
  },
  {
   "cell_type": "markdown",
   "metadata": {},
   "source": [
    "In the early years we don't see any prominent trend in term of keywords. However, a trend of *independent films* can be seen starting in 2000, 2010 onwards a new trend of *women director* begins."
   ]
  },
  {
   "cell_type": "markdown",
   "metadata": {},
   "source": [
    "** Question: The basic exploration shows *animation* to be a high revenue generating genre. Then why doesn't it fall in the 'Very high' bucket of revenue?**"
   ]
  },
  {
   "cell_type": "code",
   "execution_count": 344,
   "metadata": {},
   "outputs": [
    {
     "data": {
      "text/plain": [
       "Drama              4746\n",
       "Comedy             3775\n",
       "Thriller           2902\n",
       "Action             2376\n",
       "Romance            1708\n",
       "Horror             1636\n",
       "Adventure          1465\n",
       "Crime              1353\n",
       "Science Fiction    1221\n",
       "Family             1214\n",
       "Fantasy             908\n",
       "Mystery             808\n",
       "Animation           664\n",
       "Documentary         470\n",
       "Music               399\n",
       "History             330\n",
       "War                 268\n",
       "Foreign             184\n",
       "Western             164\n",
       "TV Movie            162\n",
       "Name: genre, dtype: int64"
      ]
     },
     "execution_count": 344,
     "metadata": {},
     "output_type": "execute_result"
    }
   ],
   "source": [
    "data_genre = data[[\"genres\"]].applymap(lambda x: x.split('|'))\n",
    "data_1=data.copy()\n",
    "data_1[\"genres\"]=data_genre\n",
    "data_2 = pd.DataFrame(data_1['genres'].values.tolist(),index=data_1['id']).stack().reset_index(level=1, drop=True).reset_index(name='genre')\n",
    "data_3=pd.merge(data_2, data, how='left', on=['id'])[[\"genre\",\"release_year\",\"budget\"]]\n",
    "\n",
    "#Selecting top 5 genres\n",
    "data_3[\"genre\"].value_counts()\n"
   ]
  },
  {
   "cell_type": "markdown",
   "metadata": {},
   "source": [
    "The reason might be the very low number of animation movies getting released compared to other genres."
   ]
  },
  {
   "cell_type": "markdown",
   "metadata": {},
   "source": [
    "<a id='conclusions'></a>\n",
    "## Conclusions\n",
    "\n",
    "#### Based on the above investigation we've made the following observations:\n",
    "- The number of movies getting released has increased over the years, in 60s the number was even below 100, whereas after 2010, that number stands close to 700\n",
    "- The budget of movies have also increased, specially during 80s to 2000\n",
    "- The most succesful movies (in terms of having an average revenue around 278 million) have mostly the following characteristics:\n",
    "> * They have a high budget, around 72 million on an average.\n",
    "> * They also have a slighty higher average runtime of 115 minutes, when compared to other movies.\n",
    "> * Most of the high revenue generating movies have *Robert De Niro*, *Brad Pitt*, *Tom Hanks* in their cast.\n",
    "> * The *adventure* genre generally yields higher revenue.\n",
    "- The movies having high ratings also show a similar cast list and they are mostly directed by one of the following directors, *Martin Scorsese*, *Steven Spielberg*, *Clint Eastwood*, *Woody Allen*.\n"
   ]
  },
  {
   "cell_type": "markdown",
   "metadata": {
    "collapsed": true
   },
   "source": [
    "<a id='eda'></a>\n",
    "## Limitations\n"
   ]
  },
  {
   "cell_type": "markdown",
   "metadata": {},
   "source": [
    "- No units are mentioned for the budget or revenue fields. If they have varying units, then this analysis might not hold.\n",
    "- We also had a lot of ,issing values which we treated as null values. This might affect the quality of the analysis.\n",
    "- We have no idea if the popularity and vote counts are coming from same medium, if they don't, then they are not comparable at all."
   ]
  },
  {
   "cell_type": "code",
   "execution_count": null,
   "metadata": {},
   "outputs": [],
   "source": []
  }
 ],
 "metadata": {
  "kernelspec": {
   "display_name": "Python 3",
   "language": "python",
   "name": "python3"
  },
  "language_info": {
   "codemirror_mode": {
    "name": "ipython",
    "version": 3
   },
   "file_extension": ".py",
   "mimetype": "text/x-python",
   "name": "python",
   "nbconvert_exporter": "python",
   "pygments_lexer": "ipython3",
   "version": "3.6.5"
  }
 },
 "nbformat": 4,
 "nbformat_minor": 2
}
